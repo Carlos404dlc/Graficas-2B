{
  "nbformat": 4,
  "nbformat_minor": 0,
  "metadata": {
    "colab": {
      "provenance": [],
      "authorship_tag": "ABX9TyNx1e538MTa56e9tXAM6zsg",
      "include_colab_link": true
    },
    "kernelspec": {
      "name": "python3",
      "display_name": "Python 3"
    },
    "language_info": {
      "name": "python"
    }
  },
  "cells": [
    {
      "cell_type": "markdown",
      "metadata": {
        "id": "view-in-github",
        "colab_type": "text"
      },
      "source": [
        "<a href=\"https://colab.research.google.com/github/Carlos404dlc/Graficas-2B/blob/main/Untitled9.ipynb\" target=\"_parent\"><img src=\"https://colab.research.google.com/assets/colab-badge.svg\" alt=\"Open In Colab\"/></a>"
      ]
    },
    {
      "cell_type": "code",
      "execution_count": 1,
      "metadata": {
        "colab": {
          "base_uri": "https://localhost:8080/"
        },
        "id": "O1I_A3Z9Mjyu",
        "outputId": "4209f631-7ff0-4986-8e34-61b0743c49b0"
      },
      "outputs": [
        {
          "output_type": "stream",
          "name": "stdout",
          "text": [
            "=== Resultados de la Regresión Múltiple ===\n",
            "Ecuación: y = 84.588 + 0.005*Volume + 0.007*Weight\n",
            "\n",
            "Interpretación:\n",
            "Intercepto (β0): 84.588 g/km (CO2 base cuando Volume y Weight son 0)\n",
            "Coeficiente Volume (β1): 0.005 g/km por unidad de volumen\n",
            "Coeficiente Weight (β2): 0.007 g/km por unidad de peso\n",
            "\n",
            "Métricas de evaluación:\n",
            "R2 (coeficiente de determinación): 0.410\n",
            "Error cuadrático medio (MSE): 41.859\n",
            "\n",
            "Predicción para Volume=1800 y Weight=1400: 103.35 g/km\n"
          ]
        },
        {
          "output_type": "stream",
          "name": "stderr",
          "text": [
            "/usr/local/lib/python3.11/dist-packages/sklearn/utils/validation.py:2739: UserWarning: X does not have valid feature names, but LinearRegression was fitted with feature names\n",
            "  warnings.warn(\n"
          ]
        }
      ],
      "source": [
        "import numpy as np\n",
        "import pandas as pd\n",
        "from sklearn.linear_model import LinearRegression\n",
        "from sklearn.model_selection import train_test_split\n",
        "from sklearn.metrics import r2_score, mean_squared_error\n",
        "\n",
        "# Configuración para mostrar resultados con 3 decimales y sin notación científica\n",
        "np.set_printoptions(precision=3, suppress=True)\n",
        "\n",
        "def preparar_datos():\n",
        "    \"\"\"\n",
        "    Prepara la matriz de variables independientes (X) y el vector de la variable dependiente (y).\n",
        "    Returns:\n",
        "    tuple: Matriz X (sin columna de 1s) y vector y.\n",
        "    \"\"\"\n",
        "    data = {\n",
        "        \"Volume\": [1000, 1200, 1000, 900, 1500, 1000, 1400, 1500, 1500, 1600, 1100, 1300, 1000, 1600, 1600, 1600, 1600, 2200, 1600, 2000, 1600, 2000, 2100, 1600, 2000, 1500, 2000, 2000, 1600, 2000, 2100, 2000, 1600, 1600, 1600, 2500],\n",
        "        \"Weight\": [790, 1160, 929, 865, 1140, 929, 1109, 1365, 1112, 1150, 980, 990, 1112, 1252, 1326, 1330, 1365, 1280, 1119, 1328, 1584, 1428, 1365, 1415, 1415, 1465, 1490, 1725, 1523, 1705, 1605, 1746, 1235, 1390, 1405, 1395],\n",
        "        \"CO2\": [99, 95, 95, 90, 105, 105, 90, 92, 98, 99, 99, 101, 99, 94, 97, 97, 99, 104, 104, 105, 94, 99, 99, 99, 99, 102, 104, 114, 109, 114, 115, 117, 104, 108, 109, 120]\n",
        "    }\n",
        "    df = pd.DataFrame(data)\n",
        "    X = df[[\"Volume\", \"Weight\"]]\n",
        "    y = df[\"CO2\"]\n",
        "    return X, y\n",
        "\n",
        "def entrenar_modelo_regresion(X, y):\n",
        "    \"\"\"\n",
        "    Entrena un modelo de regresión lineal múltiple usando scikit-learn.\n",
        "    Returns:\n",
        "    LinearRegression: Modelo entrenado.\n",
        "    \"\"\"\n",
        "    modelo = LinearRegression()\n",
        "    modelo.fit(X, y)\n",
        "    return modelo\n",
        "\n",
        "def obtener_coeficientes(modelo):\n",
        "    \"\"\"\n",
        "    Extrae los coeficientes del modelo entrenado: intercepto y pendientes.\n",
        "    Returns:\n",
        "    tuple: Intercepto (β0) y vector de coeficientes (β1, β2).\n",
        "    \"\"\"\n",
        "    intercepto = modelo.intercept_\n",
        "    coeficientes = modelo.coef_\n",
        "    return intercepto, coeficientes\n",
        "\n",
        "def realizar_predicciones(modelo, X):\n",
        "    \"\"\"\n",
        "    Genera predicciones usando el modelo entrenado.\n",
        "    Returns:\n",
        "    np.ndarray: Vector de predicciones.\n",
        "    \"\"\"\n",
        "    return modelo.predict(X)\n",
        "\n",
        "def evaluar_modelo(valores_reales, valores_predichos):\n",
        "    \"\"\"\n",
        "    Evalúa el modelo calculando el R2 y el error cuadrático medio (MSE).\n",
        "    Returns:\n",
        "    tuple: R2 y MSE.\n",
        "    \"\"\"\n",
        "    r2 = r2_score(valores_reales, valores_predichos)\n",
        "    mse = mean_squared_error(valores_reales, valores_predichos)\n",
        "    return r2, mse\n",
        "\n",
        "def imprimir_resultados(intercepto, coeficientes, predicciones, valores_reales, r2, mse):\n",
        "    \"\"\"\n",
        "    Imprime los resultados del modelo, incluyendo ecuación, predicciones y métricas de evaluación.\n",
        "    \"\"\"\n",
        "    print(\"=== Resultados de la Regresión Múltiple ===\")\n",
        "    print(f\"Ecuación: y = {intercepto:.3f} + {coeficientes[0]:.3f}*Volume + {coeficientes[1]:.3f}*Weight\")\n",
        "    print(\"\\nInterpretación:\")\n",
        "    print(f\"Intercepto (β0): {intercepto:.3f} g/km (CO2 base cuando Volume y Weight son 0)\")\n",
        "    print(f\"Coeficiente Volume (β1): {coeficientes[0]:.3f} g/km por unidad de volumen\")\n",
        "    print(f\"Coeficiente Weight (β2): {coeficientes[1]:.3f} g/km por unidad de peso\")\n",
        "    print(\"\\nMétricas de evaluación:\")\n",
        "    print(f\"R2 (coeficiente de determinación): {r2:.3f}\")\n",
        "    print(f\"Error cuadrático medio (MSE): {mse:.3f}\")\n",
        "\n",
        "def principal():\n",
        "    \"\"\"Función principal que ejecuta el análisis de regresión paso a paso.\"\"\"\n",
        "    X, y = preparar_datos()\n",
        "    X_train, X_test, y_train, y_test = train_test_split(X, y, test_size=0.3, random_state=42)\n",
        "    modelo = entrenar_modelo_regresion(X_train, y_train)\n",
        "    intercepto, coeficientes = obtener_coeficientes(modelo)\n",
        "    predicciones = realizar_predicciones(modelo, X_test)\n",
        "    r2, mse = evaluar_modelo(y_test, predicciones)\n",
        "    imprimir_resultados(intercepto, coeficientes, predicciones, y_test, r2, mse)\n",
        "    prediccion_nueva = modelo.predict([[1800, 1400]])\n",
        "    print(f\"\\nPredicción para Volume=1800 y Weight=1400: {prediccion_nueva[0]:.2f} g/km\")\n",
        "\n",
        "if __name__ == \"__main__\":\n",
        "    principal()\n"
      ]
    },
    {
      "cell_type": "markdown",
      "source": [
        "#Regresión Múltiple para Predicción de Emisiones de CO₂\n",
        "##1. Descripción del Proceso\n",
        "\n",
        "En este proyecto, aplicamos un modelo de regresión múltiple para predecir las emisiones de CO₂ en función del volumen del motor y el peso del automóvil.\n",
        "\n",
        "##Pasos seguidos:\n",
        "\n",
        "Carga y exploración de datos: Se analizó la estructura del dataset y se identificaron posibles valores atípicos o datos faltantes.\n",
        "\n",
        "Preparación de datos: Se seleccionaron las variables relevantes y se dividió el dataset en conjuntos de entrenamiento (70%) y prueba (30%).\n",
        "\n",
        "Entrenamiento del modelo: Se construyó un modelo de regresión lineal múltiple.\n",
        "\n",
        "Evaluación del modelo: Se calcularon métricas como R² y el error cuadrático medio (MSE).\n",
        "\n",
        "Interpretación de resultados y predicción: Se analizaron los coeficientes y se realizó una predicción para un automóvil con volumen = 1800 y peso = 1400.\n",
        "\n",
        "\n",
        "\n",
        "##3. Interpretación y Predicción\n",
        "\n",
        "Ecuación obtenida:\n",
        "\n",
        "𝐶𝑂2=𝛽0+𝛽1×Volume+𝛽2×Weight\n",
        "\n",
        "##Donde:\n",
        "\n",
        "β₀ (intercepto): Valor base cuando el volumen y el peso son 0.\n",
        "\n",
        "β₁ (coeficiente Volume): Variación esperada del CO₂ por cada unidad de volumen.\n",
        "\n",
        "β₂ (coeficiente Weight): Variación esperada del CO₂ por cada unidad de peso.\n",
        "\n",
        "Significado de R² y MSE:\n",
        "\n",
        "R² mide qué tan bien se ajusta el modelo a los datos. Un valor cercano a 1 indica un buen ajuste.\n",
        "\n",
        "MSE es el error medio cuadrático; cuanto menor sea, mejor es el modelo.\n",
        "\n",
        "Predicción para Volume = 1800 y Weight = 1400:\n",
        "\n"
      ],
      "metadata": {
        "id": "KyRynDwfMtkL"
      }
    }
  ]
}